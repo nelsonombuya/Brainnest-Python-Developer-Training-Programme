{
 "cells": [
  {
   "attachments": {},
   "cell_type": "markdown",
   "metadata": {},
   "source": [
    "1. Write a program that prompts the user for a string and checks whether the string is a palindrome (i.e., the string reads the same forward and backward)."
   ]
  },
  {
   "cell_type": "code",
   "execution_count": null,
   "metadata": {},
   "outputs": [],
   "source": [
    "word = input(\"Kindly input a word: \")\n",
    "\n",
    "try:\n",
    "    if not word.isalpha():\n",
    "        raise TypeError(\"Kindly input an alphabetical word\")\n",
    "    \n",
    "    reversed_word = word[::-1]\n",
    "    \n",
    "    if word == reversed_word:\n",
    "        print(f\"'{word}' is a palindrome!\")\n",
    "    else:\n",
    "        print(f\"'{word}' is not a palindrome.\")\n",
    "except TypeError as error:\n",
    "    print(f\"{error} - Word: {word}\")"
   ]
  },
  {
   "attachments": {},
   "cell_type": "markdown",
   "metadata": {},
   "source": [
    "2. Write a program that takes in a list of integers and returns the sum of all even numbers in the list."
   ]
  },
  {
   "cell_type": "code",
   "execution_count": null,
   "metadata": {},
   "outputs": [],
   "source": [
    "user_input = input(\"Kindly input a list of whole numbers separated by commas (Eg: 1,10,100,1000): \")\n",
    "\n",
    "try:\n",
    "    list_of_integers = user_input.split()\n",
    "    list_of_integers = [int(number) for number in list_of_integers]\n",
    "\n",
    "    sum_of_numbers = 0\n",
    "    [\n",
    "        sum_of_numbers := sum_of_numbers + number\n",
    "        for number in list_of_integers\n",
    "        if number % 2 == 0\n",
    "    ]\n",
    "    print(f\"The sum of '{user_input}' is {sum_of_numbers}\")\n",
    "except ValueError as error:\n",
    "    print(f\"Your input was invalid. Input: '{user_input}' Error: '{error}'\")"
   ]
  },
  {
   "attachments": {},
   "cell_type": "markdown",
   "metadata": {},
   "source": [
    "3. Write a program that prompts the user for their age and checks whether they are old enough to vote (i.e., 18 years old or older)."
   ]
  },
  {
   "cell_type": "code",
   "execution_count": null,
   "metadata": {},
   "outputs": [],
   "source": [
    "try:    \n",
    "    age = int(input(\"Kindly input your age: \"))\n",
    "    if age >= 18:\n",
    "        print(\"You are old enough to vote 🗳️\")\n",
    "    else:\n",
    "        print(\"You are too young to vote ❌\")\n",
    "except ValueError as error:\n",
    "    print(\"Kindly input a whole number\")"
   ]
  },
  {
   "attachments": {},
   "cell_type": "markdown",
   "metadata": {},
   "source": [
    "4. Write a program that takes in a list of integers and returns the largest number in the list that is also divisible by 3."
   ]
  },
  {
   "cell_type": "code",
   "execution_count": null,
   "metadata": {},
   "outputs": [],
   "source": [
    "user_input = input(\"Kindly input a list of whole numbers separated by commas (Eg: 1,10,100,1000): \")\n",
    "\n",
    "try:\n",
    "    list_of_integers = user_input.split()\n",
    "    list_of_integers = [int(number) for number in list_of_integers]\n",
    "\n",
    "    largest_divisible_by_3 = max(\n",
    "        [number for number in list_of_integers if number % 3 == 0]\n",
    "    )\n",
    "\n",
    "    print(f\"The largest number divisible by 3 in the list '{user_input}' is {largest_divisible_by_3}\")\n",
    "except ValueError as error:\n",
    "    print(f\"Your input was invalid. Input: '{user_input}' Error: '{error}'\")"
   ]
  },
  {
   "attachments": {},
   "cell_type": "markdown",
   "metadata": {},
   "source": [
    "5. Write a program that prompts the user for a number and checks whether the number is a prime number (i.e., only divisible by 1 and itself)."
   ]
  },
  {
   "cell_type": "code",
   "execution_count": null,
   "metadata": {},
   "outputs": [],
   "source": [
    "try:\n",
    "    number = int(input(\"Kindly input a whole number: \"))\n",
    "\n",
    "    if number <= 1:\n",
    "        raise ValueError\n",
    "    else:\n",
    "        # Checking whether the number is divisible by any number from 2 to the\n",
    "        # Square root of the number (Which determines if it is a prime number)\n",
    "        is_prime = True\n",
    "        for i in range(2, int(number**0.5) + 1):\n",
    "            if number % i == 0:\n",
    "                is_prime = False\n",
    "                break\n",
    "\n",
    "        if is_prime:\n",
    "            print(f\"'{number}' is a prime number.\")\n",
    "        else:\n",
    "            print(f\"'{number}' is not a prime number.\")\n",
    "except ValueError:\n",
    "    print(\"Kindly input a whole number that's greater than 1\")"
   ]
  }
 ],
 "metadata": {
  "kernelspec": {
   "display_name": "Python 3",
   "language": "python",
   "name": "python3"
  },
  "language_info": {
   "codemirror_mode": {
    "name": "ipython",
    "version": 3
   },
   "file_extension": ".py",
   "mimetype": "text/x-python",
   "name": "python",
   "nbconvert_exporter": "python",
   "pygments_lexer": "ipython3",
   "version": "3.11.2"
  },
  "orig_nbformat": 4,
  "vscode": {
   "interpreter": {
    "hash": "f7a5be651532581cb44625d52e18aa1d390cab54bc6b51099d8c30bea9b68219"
   }
  }
 },
 "nbformat": 4,
 "nbformat_minor": 2
}
