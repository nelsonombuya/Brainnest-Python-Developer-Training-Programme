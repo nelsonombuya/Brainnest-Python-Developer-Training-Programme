{
 "cells": [
  {
   "attachments": {},
   "cell_type": "markdown",
   "metadata": {},
   "source": [
    "1. Create a while loop that repeatedly takes user input and adds the input to a list until the user enters \"done\"."
   ]
  },
  {
   "cell_type": "code",
   "execution_count": null,
   "metadata": {},
   "outputs": [],
   "source": [
    "user_input_list = []\n",
    "while True:\n",
    "    user_input = input(\"Kindly input something (Input 'done' to stop): \")\n",
    "    if user_input == \"done\":\n",
    "        print(f\"\\nProgram Closed.\\nInputs: {user_input_list}\")\n",
    "        break\n",
    "    else:\n",
    "        user_input_list.append(user_input)"
   ]
  },
  {
   "attachments": {},
   "cell_type": "markdown",
   "metadata": {},
   "source": [
    "2. Create a while loop that generates random numbers and adds them to a list until the sum of all numbers in the list is greater than 100."
   ]
  },
  {
   "cell_type": "code",
   "execution_count": null,
   "metadata": {},
   "outputs": [],
   "source": [
    "import random\n",
    "\n",
    "num_list = []\n",
    "total = 0\n",
    "while total <= 100:\n",
    "    rand_int = random.randint(1, 10)\n",
    "    num_list.append(rand_int)\n",
    "    total += rand_int\n",
    "print(f\"The numbers are: {num_list}\")"
   ]
  },
  {
   "attachments": {},
   "cell_type": "markdown",
   "metadata": {},
   "source": [
    "3. Create a while loop that repeatedly takes user input and appends it to a list, but only if the input is a unique string."
   ]
  },
  {
   "cell_type": "code",
   "execution_count": null,
   "metadata": {},
   "outputs": [],
   "source": [
    "user_input_list = []\n",
    "while True:\n",
    "    user_input = input(\"Kindly input a unique string: \")\n",
    "    if user_input not in user_input_list:\n",
    "        user_input_list.append(user_input)\n",
    "    else:\n",
    "        print(f\"The string '{user_input}' is not unique\")\n",
    "        break"
   ]
  },
  {
   "attachments": {},
   "cell_type": "markdown",
   "metadata": {},
   "source": [
    "4. Create a while loop that repeatedly takes user input and appends it to a list, but only if the input is a number greater than 10."
   ]
  },
  {
   "cell_type": "code",
   "execution_count": null,
   "metadata": {},
   "outputs": [],
   "source": [
    "user_input_list = []\n",
    "while True:\n",
    "    try:\n",
    "        user_input = input(\"Kindly input a number greater than 10: \")\n",
    "        if int(user_input) > 10:\n",
    "            user_input_list.append(user_input)\n",
    "        else:\n",
    "            print(f\"{user_input} is not greater than 10!\")\n",
    "            break\n",
    "    except ValueError:\n",
    "        print(\"Kindly input a whole number!\")"
   ]
  },
  {
   "attachments": {},
   "cell_type": "markdown",
   "metadata": {},
   "source": [
    "5. Create a while loop that repeatedly takes user input and keeps track of the highest number entered until the user enters \"done\"."
   ]
  },
  {
   "cell_type": "code",
   "execution_count": null,
   "metadata": {},
   "outputs": [],
   "source": [
    "maximum = float(\"-inf\")\n",
    "\n",
    "while True:\n",
    "    try:\n",
    "        user_input = input(\"Kindly input a number (Input 'done' to stop): \")\n",
    "        if user_input == \"done\":\n",
    "            print(f\"\\nProgram Closed.\\nThe greatest number : {maximum}\")\n",
    "            break\n",
    "        elif float(user_input) > maximum:\n",
    "            maximum = float(user_input)\n",
    "    except ValueError:\n",
    "        print(\"Kindly input a number!\")"
   ]
  }
 ],
 "metadata": {
  "kernelspec": {
   "display_name": "Python 3",
   "language": "python",
   "name": "python3"
  },
  "language_info": {
   "codemirror_mode": {
    "name": "ipython",
    "version": 3
   },
   "file_extension": ".py",
   "mimetype": "text/x-python",
   "name": "python",
   "nbconvert_exporter": "python",
   "pygments_lexer": "ipython3",
   "version": "3.11.2"
  },
  "orig_nbformat": 4
 },
 "nbformat": 4,
 "nbformat_minor": 2
}
